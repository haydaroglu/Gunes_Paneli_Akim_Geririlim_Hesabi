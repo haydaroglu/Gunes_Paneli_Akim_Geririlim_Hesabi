{
 "cells": [
  {
   "cell_type": "markdown",
   "id": "ca322e47",
   "metadata": {},
   "source": [
    "# Güneş Paneli Akım Geririlim Hesabı\n",
    "Projemizin amacı, PAN dosyasından çıkarılan verilerle bir güneş panelinin belirli bir anın ışınım ve sıcaklık değerlerine göre panelin akım ve gerilim değerlerini hesaplamaktır."
   ]
  },
  {
   "cell_type": "markdown",
   "id": "10a64da1",
   "metadata": {},
   "source": [
    "I = Isc + α(G-Gref)\n",
    "V = Voc - β(Tc-Tref)"
   ]
  },
  {
   "cell_type": "markdown",
   "id": "981899b3",
   "metadata": {},
   "source": [
    "\n",
    "# PAN Dosyasının Okunması"
   ]
  },
  {
   "cell_type": "code",
   "execution_count": 81,
   "id": "6c15d33a",
   "metadata": {},
   "outputs": [],
   "source": [
    "def read_pan_file(filepath):\n",
    "    \"\"\"PAN dosyası okunur.\"\"\"\n",
    "    with open(filepath, 'r') as file:\n",
    "        content = file.read()\n",
    "    return content"
   ]
  },
  {
   "cell_type": "markdown",
   "id": "2a6ad95f",
   "metadata": {},
   "source": [
    "# Güneş Paneli Veri İşleme\n",
    "`SolarPanel` sınıfı, pan verilerini içerir ve veri parsing, parametre çıkartma gibi metodlara sahiptir. \n",
    "- `_parse_pan_data` metodu, PAN verisini key-value çiftleri olarak parse eder.\n",
    "- `_extract_parameters` metodu, gereken parametreleri çıkartır ve bunları bir sözlük olarak döndürür."
   ]
  },
  {
   "cell_type": "code",
   "execution_count": 82,
   "id": "9f2399ae",
   "metadata": {},
   "outputs": [],
   "source": [
    "class SolarPanel:\n",
    "    def __init__(self, pan_data):\n",
    "        self.raw_data = pan_data\n",
    "        self.parsed_data = self._parse_pan_data()\n",
    "        self.parameters = self._extract_parameters()\n",
    "    \n",
    "    def _parse_pan_data(self):\n",
    "        \"\"\"Veri çiftlerini ayrıştırır ve anahtar-değer çiftleri olarak döndürür.\"\"\"\n",
    "        data = {}\n",
    "        for line in self.raw_data.split(\"\\n\"):\n",
    "            parts = line.split(\"=\")\n",
    "            if len(parts) == 2:\n",
    "                key, value = parts\n",
    "                data[key.strip()] = value.strip()\n",
    "        return data\n",
    "    \n",
    "    def _extract_parameters(self):\n",
    "        \"\"\"Gerekli parametreleri çıkarır ve bir sözlük olarak döndürür.\n",
    "        \n",
    "        Çıkarılan parametreler:\n",
    "        - 'alpha_sc': Kısa devre akımı sıcaklık katsayısı (A/°C)\n",
    "        - 'I_L_ref': Referans koşullarında ışıkla oluşturulan akım (A)\n",
    "        - 'V_oc_ref': Referans koşullarında açık devre gerilimi (V)\n",
    "        - 'beta': Açık devre gerilimi sıcaklık katsayısı (V/°C)\n",
    "        \"\"\"\n",
    "        params = {\n",
    "            'alpha_sc': float(self.parsed_data.get('muISC', 0)) / 100, # muISC %/°C birimindedir, A/°C'ye dönüştürülür\n",
    "            'I_L_ref': float(self.parsed_data.get('Isc', 0)), # Isc A birimindedir\n",
    "            'V_oc_ref': float(self.parsed_data.get('Voc', 0)), # Voc V birimindedir\n",
    "            'beta': float(self.parsed_data.get('muVocSpec',0)) / 1000 # muVocSpec mV/°C birimindedir, V/°C'ye dönüştürülür\n",
    "        }\n",
    "        return params\n",
    "    \n",
    "    def calculate_current(self, irradiance):\n",
    "        \"\"\"Radyans bağlı olarak akımı hesaplar (A).\n",
    "        \n",
    "        Akım hesaplama formülü:\n",
    "        \\[ I = Isc + \\alpha \\times (G - G_{ref}) \\]\n",
    "        \n",
    "        Burada:\n",
    "        - \\(I\\) : Çıkış akımı (A)\n",
    "        - \\(Isc\\) : Kısa devre akımı (A)\n",
    "        - \\(\\alpha\\) : Kısa devre akımı sıcaklık katsayısı (A/°C)\n",
    "        - \\(G\\) : Radyans (W/m^2)\n",
    "        - \\(G_{ref}\\) : Referans radyans, genellikle 1000 W/m^2\n",
    "        \"\"\"\n",
    "        I_L = self.parameters['I_L_ref'] + self.parameters['alpha_sc'] * (irradiance - 1000)\n",
    "        return I_L\n",
    "    \n",
    "    def calculate_voltage(self, temperature):\n",
    "        \"\"\"Hücre sıcaklığına bağlı olarak gerilimi hesaplar (V).\n",
    "        \n",
    "        Gerilim hesaplama formülü:\n",
    "        \\[ V = Voc - \\beta \\times (Tc - T_{ref}) \\]\n",
    "        \n",
    "        Burada:\n",
    "        - \\(V\\) : Çıkış gerilimi (V)\n",
    "        - \\(Voc\\) : Açık devre gerilimi (V)\n",
    "        - \\(\\beta\\) : Açık devre gerilimi sıcaklık katsayısı (V/°C)\n",
    "        - \\(Tc\\) : Hücre sıcaklığı (°C)\n",
    "        - \\(T_{ref}\\) : Referans sıcaklık, genellikle 25 °C\n",
    "        \"\"\"\n",
    "        V_oc = self.parameters['V_oc_ref'] - (self.parameters['beta'] * (temperature - 25))  \n",
    "        return V_oc\n"
   ]
  },
  {
   "cell_type": "markdown",
   "id": "ff681fc9",
   "metadata": {},
   "source": [
    "## Veri Okuma\n",
    "Örnek bir PAN dosyası içeriği read_pan_file fonksiyonu ile okunur ve SolarPanel sınıfının parametreleri ekrana yazdırılır."
   ]
  },
  {
   "cell_type": "code",
   "execution_count": 83,
   "id": "5100b89d",
   "metadata": {},
   "outputs": [
    {
     "name": "stdout",
     "output_type": "stream",
     "text": [
      "{'alpha_sc': 0.05, 'I_L_ref': 9.84, 'V_oc_ref': 48.0, 'beta': -0.14}\n"
     ]
    }
   ],
   "source": [
    "pan_file_content = read_pan_file('C:\\\\Users\\\\Pratikus\\\\Documents\\\\GitHub\\\\SolarEnergyPredictionSuite\\\\data_acquisition\\\\equipment_specs\\\\module_specs\\\\ALFA_370.PAN')\n",
    "solar_panel = SolarPanel(pan_file_content)\n",
    "print(solar_panel.parameters)"
   ]
  },
  {
   "cell_type": "markdown",
   "id": "cab7949e",
   "metadata": {},
   "source": [
    "# Sonuçların Hesaplanması ve Gösterimi\n",
    "Örnek ışınım ve sıcaklık değerleri ile akım ve gerilim hesaplamaları yapılır."
   ]
  },
  {
   "cell_type": "code",
   "execution_count": 84,
   "id": "0d66f9ea",
   "metadata": {},
   "outputs": [
    {
     "data": {
      "text/plain": [
       "'PVObject_=pvModule\\n  Version=6.79\\n  Flags=$0303\\n\\n  PVObject_Commercial=pvCommercial\\n    Flags=$0041\\n    Manufacturer=ALFASOLAR\\n    Model=ALFA_370\\n    DataSource=ALFOSOLAR\\n    Width=0.997\\n    Height=1.969\\n    NPieces=100\\n    PriceDate=28/05/19 17:52\\n  End of PVObject pvCommercial\\n\\n  Technol=mtSiMono\\n  NCelS=72\\n  NCelP=1\\n  NDiode=1\\n  GRef=1000\\n  TRef=25.0\\n  PNom=370.0\\n  Isc=9.840\\n  Voc=48.00\\n  Imp=9.350\\n  Vmp=40.00\\n  muISC=5.00\\n  muVocSpec=-140.0\\n  muPmpReq=0.000\\n  RShunt=400\\n  Rp_0=2000\\n  Rp_Exp=5.50\\n  RSerie=0.245\\n  Gamma=0.960\\n  muGamma=0.0000\\n  Absorb=0.90\\n  ARev=3.200\\n  BRev=10.356\\n  RDiode=0.010\\n  VRevDiode=-0.70\\n  AirMassRef=1.500\\n  SandiaAMCorr=50.000\\nEnd of PVObject pvModule\\n'"
      ]
     },
     "execution_count": 84,
     "metadata": {},
     "output_type": "execute_result"
    }
   ],
   "source": [
    "pan_file_content"
   ]
  },
  {
   "cell_type": "code",
   "execution_count": 87,
   "id": "d302e294",
   "metadata": {},
   "outputs": [
    {
     "name": "stdout",
     "output_type": "stream",
     "text": [
      "900 W/m^2 ışınım altında ve 35 °C hücre sıcaklığında, hesaplanan çıkış akımı 4.84 A ve çıkış gerilimi 49.40 V olarak bulunmuştur.\n"
     ]
    }
   ],
   "source": [
    "# Örnek ışınım ve sıcaklık değerleri\n",
    "example_irradiance = 900  # W/m^2\n",
    "example_temperature = 35  # C\n",
    "\n",
    "# Akım ve Gerilim hesaplamaları\n",
    "current = solar_panel.calculate_current(example_irradiance)\n",
    "voltage = solar_panel.calculate_voltage(example_temperature)\n",
    "\n",
    "# Sonuçların Ekrana Yazdırılması\n",
    "print(\"{} W/m^2 ışınım altında ve {} °C hücre sıcaklığında, \"\n",
    "      \"hesaplanan çıkış akımı {:.2f} A ve çıkış gerilimi {:.2f} V olarak bulunmuştur.\"\n",
    "      .format(example_irradiance, example_temperature, current, voltage))"
   ]
  },
  {
   "cell_type": "code",
   "execution_count": null,
   "id": "140933a4",
   "metadata": {},
   "outputs": [],
   "source": []
  },
  {
   "cell_type": "code",
   "execution_count": null,
   "id": "7a5f5cc3",
   "metadata": {},
   "outputs": [],
   "source": []
  }
 ],
 "metadata": {
  "kernelspec": {
   "display_name": "Python 3 (ipykernel)",
   "language": "python",
   "name": "python3"
  },
  "language_info": {
   "codemirror_mode": {
    "name": "ipython",
    "version": 3
   },
   "file_extension": ".py",
   "mimetype": "text/x-python",
   "name": "python",
   "nbconvert_exporter": "python",
   "pygments_lexer": "ipython3",
   "version": "3.11.4"
  }
 },
 "nbformat": 4,
 "nbformat_minor": 5
}
